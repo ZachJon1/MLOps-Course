{
 "cells": [
  {
   "cell_type": "markdown",
   "id": "40b6e10a",
   "metadata": {},
   "source": [
    "# Question 1\n",
    "Mlflow version"
   ]
  },
  {
   "cell_type": "code",
   "execution_count": 1,
   "id": "8ba74bbe",
   "metadata": {},
   "outputs": [
    {
     "name": "stdout",
     "output_type": "stream",
     "text": [
      "mlflow, version 1.26.1\r\n"
     ]
    }
   ],
   "source": [
    "!mlflow --version"
   ]
  },
  {
   "cell_type": "code",
   "execution_count": 5,
   "id": "aface25c",
   "metadata": {},
   "outputs": [
    {
     "name": "stdout",
     "output_type": "stream",
     "text": [
      "Python 3.9.13\r\n"
     ]
    }
   ],
   "source": [
    "!python --version"
   ]
  },
  {
   "cell_type": "markdown",
   "id": "c3e6de78",
   "metadata": {},
   "source": [
    "# Question 2"
   ]
  },
  {
   "cell_type": "code",
   "execution_count": 7,
   "id": "f93f38c2",
   "metadata": {},
   "outputs": [],
   "source": [
    "! python3.9 ./preprocess_data.py --raw_data_path . --dest_path ./outputHW2"
   ]
  },
  {
   "cell_type": "raw",
   "id": "ace8b0c4",
   "metadata": {},
   "source": [
    "4 files\n"
   ]
  },
  {
   "cell_type": "markdown",
   "id": "50e8dc2a",
   "metadata": {},
   "source": [
    "# Question 3"
   ]
  },
  {
   "cell_type": "code",
   "execution_count": 10,
   "id": "d3d8aa5b",
   "metadata": {},
   "outputs": [
    {
     "name": "stdout",
     "output_type": "stream",
     "text": [
      "2022/05/31 01:58:51 INFO mlflow.tracking.fluent: Experiment with name 'nyc-taxi-HW2' does not exist. Creating a new experiment.\n",
      "2022/05/31 01:59:06 WARNING mlflow.utils.autologging_utils: MLflow autologging encountered a warning: \"/home/zak/anaconda3/envs/mlflow-env/lib/python3.9/site-packages/_distutils_hack/__init__.py:30: UserWarning: Setuptools is replacing distutils.\"\n"
     ]
    }
   ],
   "source": [
    "!python3.9 ./train.py --data_path ./outputHW2"
   ]
  },
  {
   "cell_type": "markdown",
   "id": "0a5c137d",
   "metadata": {},
   "source": [
    "17 parameters"
   ]
  },
  {
   "cell_type": "markdown",
   "id": "3ecea276",
   "metadata": {},
   "source": [
    "# Question 4"
   ]
  },
  {
   "cell_type": "code",
   "execution_count": 13,
   "id": "9a48b684",
   "metadata": {},
   "outputs": [
    {
     "name": "stdout",
     "output_type": "stream",
     "text": [
      "[2022-05-31 02:21:29 -0400] [1913] [INFO] Starting gunicorn 20.1.0\n",
      "[2022-05-31 02:21:29 -0400] [1913] [INFO] Listening at: http://127.0.0.1:5000 (1913)\n",
      "[2022-05-31 02:21:29 -0400] [1913] [INFO] Using worker: sync\n",
      "[2022-05-31 02:21:29 -0400] [1915] [INFO] Booting worker with pid: 1915\n",
      "[2022-05-31 02:21:29 -0400] [1916] [INFO] Booting worker with pid: 1916\n",
      "[2022-05-31 02:21:29 -0400] [1917] [INFO] Booting worker with pid: 1917\n",
      "[2022-05-31 02:21:29 -0400] [1918] [INFO] Booting worker with pid: 1918\n",
      "^C\n",
      "[2022-05-31 02:21:49 -0400] [1913] [INFO] Handling signal: int\n",
      "[2022-05-31 02:21:49 -0400] [1915] [INFO] Worker exiting (pid: 1915)\n",
      "[2022-05-31 02:21:49 -0400] [1917] [INFO] Worker exiting (pid: 1917)\n",
      "[2022-05-31 02:21:49 -0400] [1918] [INFO] Worker exiting (pid: 1918)\n",
      "[2022-05-31 02:21:49 -0400] [1916] [INFO] Worker exiting (pid: 1916)\n"
     ]
    }
   ],
   "source": [
    "! mlflow server --backend-store-uri sqlite:///backend.db --default-artifact-root ./artifacts"
   ]
  },
  {
   "cell_type": "markdown",
   "id": "9f6a9985",
   "metadata": {},
   "source": [
    "the default artifact root should be given"
   ]
  },
  {
   "cell_type": "markdown",
   "id": "6ee1fb0a",
   "metadata": {},
   "source": [
    "# Question 5"
   ]
  },
  {
   "cell_type": "code",
   "execution_count": 22,
   "id": "d052619b",
   "metadata": {
    "scrolled": false
   },
   "outputs": [
    {
     "name": "stdout",
     "output_type": "stream",
     "text": [
      "100%|█████████| 50/50 [05:16<00:00,  6.32s/trial, best loss: 6.6284257482044735]\n"
     ]
    }
   ],
   "source": [
    "!python3.9 ./hpo.py --data_path ./outputHW2"
   ]
  },
  {
   "cell_type": "markdown",
   "id": "fd9623cb",
   "metadata": {},
   "source": [
    "The smallest RMSE is 6.628"
   ]
  },
  {
   "cell_type": "markdown",
   "id": "5a59ac0f",
   "metadata": {},
   "source": [
    "# Question 6"
   ]
  },
  {
   "cell_type": "code",
   "execution_count": 29,
   "id": "bf7eca99",
   "metadata": {},
   "outputs": [
    {
     "name": "stdout",
     "output_type": "stream",
     "text": [
      "Traceback (most recent call last):\r\n",
      "  File \"/mnt/c/Users/John/desktop/mlops/./register_model.py\", line 92, in <module>\r\n",
      "    run(args.data_path, args.top_n)\r\n",
      "  File \"/mnt/c/Users/John/desktop/mlops/./register_model.py\", line 64, in run\r\n",
      "    print(f\"run id: {run.info.run_id}, rmse: {run.data.metrics['rmse']:.4f}\")\r\n",
      "KeyError: 'rmse'\r\n"
     ]
    }
   ],
   "source": [
    "!python3.9 ./register_model.py --data_path ./outputHW2"
   ]
  },
  {
   "cell_type": "code",
   "execution_count": null,
   "id": "2adceaf2",
   "metadata": {},
   "outputs": [],
   "source": []
  }
 ],
 "metadata": {
  "kernelspec": {
   "display_name": "Python 3 (ipykernel)",
   "language": "python",
   "name": "python3"
  },
  "language_info": {
   "codemirror_mode": {
    "name": "ipython",
    "version": 3
   },
   "file_extension": ".py",
   "mimetype": "text/x-python",
   "name": "python",
   "nbconvert_exporter": "python",
   "pygments_lexer": "ipython3",
   "version": "3.8.10"
  }
 },
 "nbformat": 4,
 "nbformat_minor": 5
}
